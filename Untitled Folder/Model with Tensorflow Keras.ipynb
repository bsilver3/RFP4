{
 "cells": [
  {
   "cell_type": "code",
   "execution_count": null,
   "id": "df01e883",
   "metadata": {},
   "outputs": [],
   "source": [
    "import gymnasium as gym\n",
    "import numpy as np\n",
    "from tensorflow.keras import layers, models, optimizers\n",
    "from collections import deque\n",
    "import random\n",
    "import cv2\n",
    "env = gym.make('ALE/Frogger-v5', render_mode=\"rgb_array\")"
   ]
  },
  {
   "cell_type": "code",
   "execution_count": null,
   "id": "5494d3a4",
   "metadata": {},
   "outputs": [],
   "source": [
    "def preprocess_state(state):\n",
    "    # Assuming the state is a tuple where the RGB image is the first element\n",
    "    state_rgb = state[0]\n",
    "    # Convert the state to a format that can be resized\n",
    "    state_rgb = np.array(state_rgb, dtype=np.uint8)\n",
    "    # Resize the state to 84x84\n",
    "    state_resized = cv2.resize(state_rgb, (84, 84))\n",
    "\n",
    "    # Ensure that the resized state has 3 channels (RGB)\n",
    "    if len(state_resized.shape) == 2:\n",
    "        state_resized = cv2.cvtColor(state_resized, cv2.COLOR_GRAY2RGB)\n",
    "\n",
    "    # Convert the resized state to grayscale\n",
    "    state_gray = cv2.cvtColor(state_resized, cv2.COLOR_RGB2GRAY)\n",
    "    return state_gray"
   ]
  },
  {
   "cell_type": "code",
   "execution_count": null,
   "id": "672caad1",
   "metadata": {},
   "outputs": [],
   "source": [
    "# Initialize DQN model\n",
    "def create_dqn_model(input_shape, num_actions):\n",
    "    model = models.Sequential([\n",
    "        layers.Conv2D(32, (8, 8), strides=(4, 4), activation='relu', input_shape=input_shape),\n",
    "        layers.Conv2D(64, (4, 4), strides=(2, 2), activation='relu'),\n",
    "        layers.Conv2D(64, (3, 3), strides=(1, 1), activation='relu'),\n",
    "        layers.Flatten(),\n",
    "        layers.Dense(512, activation='relu'),\n",
    "        layers.Dense(num_actions)\n",
    "    ])\n",
    "    return model"
   ]
  },
  {
   "cell_type": "code",
   "execution_count": null,
   "id": "fe4324c2",
   "metadata": {},
   "outputs": [],
   "source": [
    "# Initialize replay memory\n",
    "replay_memory = deque(maxlen=10000)\n",
    "\n",
    "# Initialize DQN model\n",
    "input_shape = (84, 84, 4)\n",
    "num_actions = env.action_space.n\n",
    "dqn_model = create_dqn_model(input_shape, num_actions)\n",
    "dqn_model_target = create_dqn_model(input_shape, num_actions)\n",
    "dqn_model_target.set_weights(dqn_model.get_weights())\n",
    "\n",
    "# Compile the DQN model\n",
    "dqn_model.compile(optimizer=optimizers.Adam(learning_rate=0.00025), loss='mse')\n",
    "\n",
    "# Define epsilon-greedy policy\n",
    "epsilon_start = 1.0\n",
    "epsilon_end = 0.1\n",
    "epsilon_decay = 0.0001\n",
    "epsilon = epsilon_start\n",
    "\n",
    "# Define other hyperparameters\n",
    "gamma = 0.99  # Discount factor\n",
    "batch_size = 32\n",
    "update_target_frequency = 1000\n",
    "num_episodes = 100\n"
   ]
  },
  {
   "cell_type": "code",
   "execution_count": null,
   "id": "d7c143bb",
   "metadata": {},
   "outputs": [],
   "source": [
    "# Training loop\n",
    "for episode in range(num_episodes):\n",
    "    state = env.reset()\n",
    "    state = preprocess_state(state)\n",
    "    state_stack = np.stack([state] * 4, axis=2)\n",
    "    done = False\n",
    "    total_reward = 0\n",
    "\n",
    "    while not done:\n",
    "        # Select action\n",
    "        if np.random.rand() < epsilon:\n",
    "            action = env.action_space.sample()\n",
    "        else:\n",
    "            q_values = dqn_model.predict(np.expand_dims(state_stack, axis=0))\n",
    "            action = np.argmax(q_values)\n",
    "\n",
    "        # Execute action\n",
    "        next_state, reward, done, _, _ = env.step(action)\n",
    "        next_state = preprocess_state(next_state)\n",
    "        next_state_stack = np.append(state_stack[:, :, 1:], np.expand_dims(next_state, axis=2), axis=2)\n",
    "\n",
    "        # Store experience in replay memory\n",
    "        replay_memory.append((state_stack, action, reward, next_state_stack, done))\n",
    "\n",
    "        # Update state\n",
    "        state_stack = next_state_stack\n",
    "        total_reward += reward\n",
    "\n",
    "        # Sample mini-batch from replay memory\n",
    "        if len(replay_memory) >= batch_size:\n",
    "            mini_batch = random.sample(replay_memory, batch_size)\n",
    "\n",
    "            # Calculate target Q-values\n",
    "            states, actions, rewards, next_states, dones = zip(*mini_batch)\n",
    "            states = np.array(states)\n",
    "            next_states = np.array(next_states)\n",
    "            target_q_values = dqn_model.predict(states)\n",
    "            target_q_values_next = dqn_model_target.predict(next_states)\n",
    "            for i in range(batch_size):\n",
    "                target_q_values[i][actions[i]] = rewards[i] + (1 - dones[i]) * gamma * np.max(target_q_values_next[i])\n",
    "\n",
    "            # Update DQN model\n",
    "            dqn_model.fit(states, target_q_values, epochs=1, verbose=0)\n",
    "\n",
    "        # Update target network\n",
    "        if episode % update_target_frequency == 0:\n",
    "            dqn_model_target.set_weights(dqn_model.get_weights())\n",
    "\n",
    "    # Decay epsilon\n",
    "    epsilon = max(epsilon_end, epsilon - epsilon_decay)\n",
    "\n",
    "    print(f\"Episode: {episode + 1}, Total Reward: {total_reward}, Epsilon: {epsilon}\")"
   ]
  },
  {
   "cell_type": "code",
   "execution_count": null,
   "id": "40271a5e",
   "metadata": {},
   "outputs": [],
   "source": [
    "# Save the trained model\n",
    "dqn_model.save('frogger_dqn_model.h5')"
   ]
  },
  {
   "cell_type": "code",
   "execution_count": null,
   "id": "4c4fc640",
   "metadata": {},
   "outputs": [],
   "source": [
    "pip install psutil\n"
   ]
  },
  {
   "cell_type": "code",
   "execution_count": null,
   "id": "54334490",
   "metadata": {},
   "outputs": [],
   "source": [
    "import psutil\n",
    "\n",
    "# Get the current memory usage in bytes\n",
    "memory_usage = psutil.virtual_memory().used\n",
    "\n",
    "# Convert memory usage to gigabytes for easier reading\n",
    "memory_usage_gb = memory_usage / (1024 ** 3)\n",
    "\n",
    "print(f\"Current memory usage: {memory_usage_gb:.2f} GB\")\n"
   ]
  },
  {
   "cell_type": "code",
   "execution_count": null,
   "id": "23d8c62c",
   "metadata": {},
   "outputs": [],
   "source": [
    "import tensorflow as tf\n",
    "loaded_model = tf.saved_model.load('frogger_dqn_model.h5')"
   ]
  },
  {
   "cell_type": "code",
   "execution_count": null,
   "id": "6c9ad230",
   "metadata": {},
   "outputs": [],
   "source": []
  }
 ],
 "metadata": {
  "kernelspec": {
   "display_name": "Python 3 (ipykernel)",
   "language": "python",
   "name": "python3"
  },
  "language_info": {
   "codemirror_mode": {
    "name": "ipython",
    "version": 3
   },
   "file_extension": ".py",
   "mimetype": "text/x-python",
   "name": "python",
   "nbconvert_exporter": "python",
   "pygments_lexer": "ipython3",
   "version": "3.9.13"
  }
 },
 "nbformat": 4,
 "nbformat_minor": 5
}
