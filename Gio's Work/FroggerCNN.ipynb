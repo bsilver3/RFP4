{
 "cells": [
  {
   "cell_type": "code",
   "execution_count": 1,
   "id": "de308bcf",
   "metadata": {},
   "outputs": [],
   "source": [
    "# !pip install tensorflow\n",
    "# !pip install keras\n",
    "# !pip install numpy==1.25.0"
   ]
  },
  {
   "cell_type": "code",
   "execution_count": 2,
   "id": "98ffa869",
   "metadata": {},
   "outputs": [
    {
     "name": "stderr",
     "output_type": "stream",
     "text": [
      "C:\\ProgramData\\Anaconda3\\lib\\site-packages\\scipy\\__init__.py:155: UserWarning: A NumPy version >=1.18.5 and <1.25.0 is required for this version of SciPy (detected version 1.25.0\n",
      "  warnings.warn(f\"A NumPy version >={np_minversion} and <{np_maxversion}\"\n"
     ]
    }
   ],
   "source": [
    "import tensorflow as tf\n",
    "import gymnasium as gym\n",
    "import random"
   ]
  },
  {
   "cell_type": "code",
   "execution_count": 3,
   "id": "a5aada56",
   "metadata": {},
   "outputs": [],
   "source": [
    "import keras"
   ]
  },
  {
   "cell_type": "code",
   "execution_count": 4,
   "id": "2f01a9e2",
   "metadata": {},
   "outputs": [],
   "source": [
    "from keras.models import Sequential\n",
    "from keras.layers import Convolution2D"
   ]
  },
  {
   "cell_type": "code",
   "execution_count": 5,
   "id": "a4433d17",
   "metadata": {},
   "outputs": [],
   "source": [
    "env = gym.make(\"ALE/Frogger-v5\", render_mode = \"human\")"
   ]
  },
  {
   "cell_type": "code",
   "execution_count": 6,
   "id": "71864aee",
   "metadata": {},
   "outputs": [],
   "source": [
    "render = False\n",
    "def runGame():\n",
    "    render = True\n",
    "    env.reset()\n",
    "    \n",
    "    highscore = 0\n",
    "    while render:\n",
    "        # The required precursor NOOP step & get the initialized lives count\n",
    "        currentlivesCount = env.step(0)[4]['lives']\n",
    "\n",
    "        # Do a random action\n",
    "        nextAction = random.randint(0, env.env.action_space.n-1)\n",
    "\n",
    "        # Do random action and assign new space to a variable\n",
    "        newSpace = env.step(nextAction)\n",
    "\n",
    "        newLives = newSpace[4]['lives']\n",
    "\n",
    "        highscore += newSpace[1]\n",
    "        # If the player dies, we'll print the highscore.\n",
    "        if currentlivesCount != newLives:\n",
    "            currentlivesCount = newLives\n",
    "            \n",
    "        if newSpace[4]['lives'] <= 0: # Reset to play more\n",
    "            env.reset()\n",
    "            render = False\n",
    "            \n",
    "    return highscore"
   ]
  },
  {
   "cell_type": "code",
   "execution_count": 7,
   "id": "6c804c3a",
   "metadata": {},
   "outputs": [],
   "source": [
    "model = Sequential()"
   ]
  },
  {
   "cell_type": "code",
   "execution_count": 8,
   "id": "501dd3f2",
   "metadata": {},
   "outputs": [],
   "source": [
    "height, width, channels = env.observation_space.shape"
   ]
  },
  {
   "cell_type": "code",
   "execution_count": 10,
   "id": "adedcea2",
   "metadata": {},
   "outputs": [],
   "source": [
    "model.add(Convolution2D(64, (8,8), strides=(4,4), activation='relu', input_shape=(height, width, channels)))"
   ]
  },
  {
   "cell_type": "code",
   "execution_count": null,
   "id": "7d3aee14",
   "metadata": {},
   "outputs": [],
   "source": []
  }
 ],
 "metadata": {
  "kernelspec": {
   "display_name": "Python 3 (ipykernel)",
   "language": "python",
   "name": "python3"
  },
  "language_info": {
   "codemirror_mode": {
    "name": "ipython",
    "version": 3
   },
   "file_extension": ".py",
   "mimetype": "text/x-python",
   "name": "python",
   "nbconvert_exporter": "python",
   "pygments_lexer": "ipython3",
   "version": "3.9.13"
  }
 },
 "nbformat": 4,
 "nbformat_minor": 5
}
