{
 "cells": [
  {
   "cell_type": "code",
   "execution_count": 1,
   "id": "211ceb75",
   "metadata": {},
   "outputs": [],
   "source": [
    "import gymnasium as gym\n",
    "import random"
   ]
  },
  {
   "cell_type": "code",
   "execution_count": 2,
   "id": "0b718d34",
   "metadata": {},
   "outputs": [],
   "source": [
    "env = gym.make(\"ALE/Frogger-v5\", render_mode = \"human\")"
   ]
  },
  {
   "cell_type": "code",
   "execution_count": 3,
   "id": "cf723411",
   "metadata": {},
   "outputs": [],
   "source": [
    "render = False\n",
    "def runGame():\n",
    "    render = True\n",
    "    env.reset()\n",
    "    \n",
    "    highscore = 0\n",
    "    while render:\n",
    "        # The required precursor NOOP step & get the initialized lives count\n",
    "        currentlivesCount = env.step(0)[4]['lives']\n",
    "\n",
    "        # Do a random action\n",
    "        nextAction = random.randint(0, env.env.action_space.n-1)\n",
    "\n",
    "        # Do random action and assign new space to a variable\n",
    "        newSpace = env.step(nextAction)\n",
    "\n",
    "        newLives = newSpace[4]['lives']\n",
    "\n",
    "        highscore += newSpace[1]\n",
    "        # If the player dies, we'll print the highscore.\n",
    "        if currentlivesCount != newLives:\n",
    "            currentlivesCount = newLives\n",
    "            \n",
    "        if newSpace[4]['lives'] <= 0: # Reset to play more\n",
    "            env.reset()\n",
    "            render = False\n",
    "            \n",
    "    return highscore"
   ]
  },
  {
   "cell_type": "code",
   "execution_count": 4,
   "id": "9bab7875",
   "metadata": {},
   "outputs": [
    {
     "name": "stdout",
     "output_type": "stream",
     "text": [
      "Episode 1: Highscore of 8.0\n",
      "Episode 2: Highscore of 6.0\n",
      "Episode 3: Highscore of 11.0\n",
      "Episode 4: Highscore of 8.0\n",
      "Episode 5: Highscore of 7.0\n",
      "Episode 6: Highscore of 6.0\n",
      "Episode 7: Highscore of 7.0\n",
      "Episode 8: Highscore of 5.0\n",
      "Episode 9: Highscore of 5.0\n",
      "Episode 10: Highscore of 9.0\n"
     ]
    }
   ],
   "source": [
    "for i in range(10):\n",
    "    episode = i+1\n",
    "    highscore = runGame()\n",
    "    print(\"Episode \"+str(episode)+\": Highscore of \"+str(highscore))"
   ]
  }
 ],
 "metadata": {
  "kernelspec": {
   "display_name": "Python 3 (ipykernel)",
   "language": "python",
   "name": "python3"
  },
  "language_info": {
   "codemirror_mode": {
    "name": "ipython",
    "version": 3
   },
   "file_extension": ".py",
   "mimetype": "text/x-python",
   "name": "python",
   "nbconvert_exporter": "python",
   "pygments_lexer": "ipython3",
   "version": "3.9.13"
  }
 },
 "nbformat": 4,
 "nbformat_minor": 5
}
